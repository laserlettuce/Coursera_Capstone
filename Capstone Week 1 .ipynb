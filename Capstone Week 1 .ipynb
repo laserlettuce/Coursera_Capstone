{
    "cells": [
        {
            "metadata": {
                "collapsed": true
            },
            "cell_type": "markdown",
            "source": "# The Battle of Neighborhoods - Week One\n\n## Introduction:\nThere are several large hospitals located in the Texas Medical Center in Houston and most of these hospitals have designated cafeteria space for patients, staff, and visitors.  They try to offer a variety of options, including outsources options like franchises, casual dining places, self-serve station, and traditional cafeteria food.  TMC is one of the worlds largest medical center and as such had thousands of visitors each year from around the country and the world. \n\n## Background and Problem Description:\n\nThe TMC is a very attractive area to open a franchise or casual dining spot due to the large volume of visitors and staff in the area.  However, several restaurants already exist in the area and it is important to understand the competition before opening a new restaurant.  There are also several options on locations and type of dining experience.  To service most of the potential clients, the new restaurant will be fast casual focusing on healthy options.  They will also offer free delivery to nearby inpatient areas and work areas to maximize the number of customers and have a pick-up option available where you can build your own salad and sandwiches and have them ready at the pickup area prepaid.  The restaurant will be called Light Delights and they wish to look at what area of the medical center will be the best option as far as distance from most major hospitals and for the most foot traffic.\n\n\n## Data and Methodology:\n\nThis project will utilize open source Python tools, such as Pandas and Numpy, to conduct the descriptive statistical analysis section, as well as to create visualizations for the project. Data cleaning, web scraping and calls to APIs will be used to gather data from multiple sources. The Foursquare API will be used to gather data about the different restaurants in and around the Texas Medical Center, segmenting them by venue type, and then comparing the different types within the medical center. That data will then be compared with patient volume data and employee data for each hospital and provide a recommendation of which area to offer services in.\n"
        }
    ],
    "metadata": {
        "kernelspec": {
            "name": "python3",
            "display_name": "Python 3.6",
            "language": "python"
        },
        "language_info": {
            "name": "python",
            "version": "3.6.9",
            "mimetype": "text/x-python",
            "codemirror_mode": {
                "name": "ipython",
                "version": 3
            },
            "pygments_lexer": "ipython3",
            "nbconvert_exporter": "python",
            "file_extension": ".py"
        }
    },
    "nbformat": 4,
    "nbformat_minor": 1
}